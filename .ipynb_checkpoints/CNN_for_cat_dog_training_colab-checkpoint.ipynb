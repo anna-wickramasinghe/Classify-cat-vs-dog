{
 "cells": [
  {
   "cell_type": "markdown",
   "id": "0a835e57",
   "metadata": {
    "id": "fa1886a8"
   },
   "source": [
    "# Loading data"
   ]
  },
  {
   "cell_type": "code",
   "execution_count": 3,
   "id": "66ff1f6a",
   "metadata": {
    "executionInfo": {
     "elapsed": 7017,
     "status": "ok",
     "timestamp": 1706606269492,
     "user": {
      "displayName": "Anna Wickramasinghe",
      "userId": "17280592597044115921"
     },
     "user_tz": -330
    },
    "id": "dc785ae4"
   },
   "outputs": [],
   "source": [
    "import numpy as np\n",
    "data=np.load('/content/drive/MyDrive/Colab Notebooks/data.npy')\n",
    "target=np.load('/content/drive/MyDrive/Colab Notebooks/target.npy')"
   ]
  },
  {
   "cell_type": "code",
   "execution_count": 2,
   "id": "585adb8a",
   "metadata": {
    "colab": {
     "base_uri": "https://localhost:8080/"
    },
    "executionInfo": {
     "elapsed": 50110,
     "status": "ok",
     "timestamp": 1706606262492,
     "user": {
      "displayName": "Anna Wickramasinghe",
      "userId": "17280592597044115921"
     },
     "user_tz": -330
    },
    "id": "D1XHMDsys8pB",
    "outputId": "f66c4dce-b194-46b0-fe0d-54fe9196ba45"
   },
   "outputs": [
    {
     "name": "stdout",
     "output_type": "stream",
     "text": [
      "Mounted at /content/drive\n"
     ]
    }
   ],
   "source": [
    "from google.colab import drive\n",
    "drive.mount('/content/drive')"
   ]
  },
  {
   "cell_type": "markdown",
   "id": "12a226fc",
   "metadata": {
    "id": "1f7c4774"
   },
   "source": [
    "# Building model"
   ]
  },
  {
   "cell_type": "code",
   "execution_count": 4,
   "id": "541a9fad",
   "metadata": {
    "colab": {
     "base_uri": "https://localhost:8080/"
    },
    "executionInfo": {
     "elapsed": 6584,
     "status": "ok",
     "timestamp": 1706606281654,
     "user": {
      "displayName": "Anna Wickramasinghe",
      "userId": "17280592597044115921"
     },
     "user_tz": -330
    },
    "id": "15efc328",
    "outputId": "24b3e052-c838-4892-a847-eaf7c2884d72"
   },
   "outputs": [
    {
     "name": "stdout",
     "output_type": "stream",
     "text": [
      "Model: \"sequential\"\n",
      "_________________________________________________________________\n",
      " Layer (type)                Output Shape              Param #   \n",
      "=================================================================\n",
      " conv2d (Conv2D)             (None, 48, 48, 128)       1280      \n",
      "                                                                 \n",
      " batch_normalization (Batch  (None, 48, 48, 128)       512       \n",
      " Normalization)                                                  \n",
      "                                                                 \n",
      " activation (Activation)     (None, 48, 48, 128)       0         \n",
      "                                                                 \n",
      " max_pooling2d (MaxPooling2  (None, 24, 24, 128)       0         \n",
      " D)                                                              \n",
      "                                                                 \n",
      " conv2d_1 (Conv2D)           (None, 22, 22, 64)        73792     \n",
      "                                                                 \n",
      " batch_normalization_1 (Bat  (None, 22, 22, 64)        256       \n",
      " chNormalization)                                                \n",
      "                                                                 \n",
      " activation_1 (Activation)   (None, 22, 22, 64)        0         \n",
      "                                                                 \n",
      " max_pooling2d_1 (MaxPoolin  (None, 11, 11, 64)        0         \n",
      " g2D)                                                            \n",
      "                                                                 \n",
      " conv2d_2 (Conv2D)           (None, 7, 7, 32)          51232     \n",
      "                                                                 \n",
      " batch_normalization_2 (Bat  (None, 7, 7, 32)          128       \n",
      " chNormalization)                                                \n",
      "                                                                 \n",
      " activation_2 (Activation)   (None, 7, 7, 32)          0         \n",
      "                                                                 \n",
      " max_pooling2d_2 (MaxPoolin  (None, 3, 3, 32)          0         \n",
      " g2D)                                                            \n",
      "                                                                 \n",
      " flatten (Flatten)           (None, 288)               0         \n",
      "                                                                 \n",
      " dropout (Dropout)           (None, 288)               0         \n",
      "                                                                 \n",
      " dense (Dense)               (None, 200)               57800     \n",
      "                                                                 \n",
      " dropout_1 (Dropout)         (None, 200)               0         \n",
      "                                                                 \n",
      " dense_1 (Dense)             (None, 100)               20100     \n",
      "                                                                 \n",
      " batch_normalization_3 (Bat  (None, 100)               400       \n",
      " chNormalization)                                                \n",
      "                                                                 \n",
      " dense_2 (Dense)             (None, 50)                5050      \n",
      "                                                                 \n",
      " dense_3 (Dense)             (None, 10)                510       \n",
      "                                                                 \n",
      " dense_4 (Dense)             (None, 2)                 22        \n",
      "                                                                 \n",
      "=================================================================\n",
      "Total params: 211082 (824.54 KB)\n",
      "Trainable params: 210434 (822.01 KB)\n",
      "Non-trainable params: 648 (2.53 KB)\n",
      "_________________________________________________________________\n"
     ]
    }
   ],
   "source": [
    "from keras.models import Sequential\n",
    "from keras.layers import Conv2D, MaxPooling2D, Dense, Flatten, Activation, Dropout, BatchNormalization\n",
    "\n",
    "model = Sequential()\n",
    "\n",
    "model.add(Conv2D(128,(3,3),input_shape=data.shape[1:], kernel_initializer='orthogonal'))\n",
    "model.add(BatchNormalization())\n",
    "model.add(Activation('relu'))\n",
    "model.add(MaxPooling2D(pool_size=(2,2)))\n",
    "\n",
    "model.add(Conv2D(64,(3,3)))\n",
    "model.add(BatchNormalization())\n",
    "model.add(Activation('relu'))\n",
    "model.add(MaxPooling2D(pool_size=(2,2)))\n",
    "\n",
    "model.add(Conv2D(32,(5,5)))\n",
    "model.add(BatchNormalization())\n",
    "model.add(Activation('relu'))\n",
    "model.add(MaxPooling2D(pool_size=(2,2)))\n",
    "\n",
    "model.add(Flatten())\n",
    "model.add(Dropout(0.5))\n",
    "model.add(Dense(200,activation='tanh'))\n",
    "model.add(Dropout(0.25))\n",
    "model.add(Dense(100,activation='relu'))\n",
    "model.add(BatchNormalization())\n",
    "model.add(Dense(50,activation='tanh'))\n",
    "model.add(Dense(10,activation='relu'))\n",
    "model.add(Dense(2, activation='softmax'))\n",
    "\n",
    "model.compile(loss='categorical_crossentropy', optimizer='adam', metrics=['accuracy'])\n",
    "\n",
    "model.summary()"
   ]
  },
  {
   "cell_type": "markdown",
   "id": "7d606c42",
   "metadata": {
    "id": "x9a2hyfzUAkU"
   },
   "source": [
    "## **Augmentation**"
   ]
  },
  {
   "cell_type": "code",
   "execution_count": 5,
   "id": "5e865aee",
   "metadata": {
    "executionInfo": {
     "elapsed": 511,
     "status": "ok",
     "timestamp": 1706606291565,
     "user": {
      "displayName": "Anna Wickramasinghe",
      "userId": "17280592597044115921"
     },
     "user_tz": -330
    },
    "id": "1cOS6cupT74_"
   },
   "outputs": [],
   "source": [
    "from keras.preprocessing.image import ImageDataGenerator\n",
    "aug = ImageDataGenerator(rotation_range=20, zoom_range=0.15, width_shift_range=0.2, height_shift_range=0.2,shear_range=0.1,\n",
    "                        horizontal_flip=True, fill_mode='nearest')"
   ]
  },
  {
   "cell_type": "markdown",
   "id": "4ddaadb4",
   "metadata": {
    "id": "3sUsnXnDUV_i"
   },
   "source": [
    "## Trainning"
   ]
  },
  {
   "cell_type": "code",
   "execution_count": 6,
   "id": "9f4720b6",
   "metadata": {
    "executionInfo": {
     "elapsed": 1532,
     "status": "ok",
     "timestamp": 1706606296344,
     "user": {
      "displayName": "Anna Wickramasinghe",
      "userId": "17280592597044115921"
     },
     "user_tz": -330
    },
    "id": "em8n5gDNTwkk"
   },
   "outputs": [],
   "source": [
    "from sklearn.model_selection import train_test_split\n",
    "\n",
    "train_data,test_data,train_target,test_target=train_test_split(data,target,test_size=0.2)"
   ]
  },
  {
   "cell_type": "code",
   "execution_count": null,
   "id": "548c26db",
   "metadata": {
    "colab": {
     "background_save": true,
     "base_uri": "https://localhost:8080/"
    },
    "id": "2c4bdc78",
    "scrolled": true
   },
   "outputs": [
    {
     "name": "stdout",
     "output_type": "stream",
     "text": [
      "Epoch 1/100\n",
      "624/624 [==============================] - ETA: 0s - loss: 0.6856 - accuracy: 0.5698"
     ]
    },
    {
     "name": "stderr",
     "output_type": "stream",
     "text": [
      "/usr/local/lib/python3.10/dist-packages/keras/src/engine/training.py:3103: UserWarning: You are saving your model as an HDF5 file via `model.save()`. This file format is considered legacy. We recommend using instead the native Keras format, e.g. `model.save('my_model.keras')`.\n",
      "  saving_api.save_model(\n"
     ]
    },
    {
     "name": "stdout",
     "output_type": "stream",
     "text": [
      "624/624 [==============================] - 379s 603ms/step - loss: 0.6856 - accuracy: 0.5698 - val_loss: 0.6650 - val_accuracy: 0.6014\n",
      "Epoch 2/100\n",
      "624/624 [==============================] - 378s 606ms/step - loss: 0.6519 - accuracy: 0.6226 - val_loss: 0.8326 - val_accuracy: 0.5557\n",
      "Epoch 3/100\n",
      "624/624 [==============================] - 379s 608ms/step - loss: 0.6249 - accuracy: 0.6522 - val_loss: 0.7893 - val_accuracy: 0.5212\n",
      "Epoch 4/100\n",
      "624/624 [==============================] - 344s 552ms/step - loss: 0.5899 - accuracy: 0.6900 - val_loss: 0.6225 - val_accuracy: 0.6483\n",
      "Epoch 5/100\n",
      "624/624 [==============================] - 336s 539ms/step - loss: 0.5685 - accuracy: 0.7064 - val_loss: 0.5548 - val_accuracy: 0.7162\n",
      "Epoch 6/100\n",
      "624/624 [==============================] - 347s 557ms/step - loss: 0.5509 - accuracy: 0.7188 - val_loss: 0.5329 - val_accuracy: 0.7421\n",
      "Epoch 7/100\n",
      "624/624 [==============================] - 346s 555ms/step - loss: 0.5337 - accuracy: 0.7356 - val_loss: 0.4355 - val_accuracy: 0.8014\n",
      "Epoch 8/100\n",
      "624/624 [==============================] - 355s 569ms/step - loss: 0.5221 - accuracy: 0.7421 - val_loss: 0.4535 - val_accuracy: 0.7874\n",
      "Epoch 9/100\n",
      "624/624 [==============================] - 345s 553ms/step - loss: 0.5132 - accuracy: 0.7456 - val_loss: 0.8681 - val_accuracy: 0.6056\n",
      "Epoch 10/100\n",
      "367/624 [================>.............] - ETA: 2:16 - loss: 0.5064 - accuracy: 0.7524"
     ]
    }
   ],
   "source": [
    "from keras.callbacks import ModelCheckpoint\n",
    "\n",
    "checkpoint_path = \"/content/drive/MyDrive/Colab Notebooks/models/model-{epoch:03d}.h5\"\n",
    "checkpoint = ModelCheckpoint(checkpoint_path, monitor='val_loss',save_best_only=True,mode='auto')\n",
    "\n",
    "model.fit(aug.flow(train_data,train_target,batch_size=32),validation_data=(test_data, test_target), epochs=100, callbacks=[checkpoint])"
   ]
  },
  {
   "cell_type": "code",
   "execution_count": null,
   "id": "f829c1c0",
   "metadata": {
    "id": "kJULYZw4vmBl"
   },
   "outputs": [],
   "source": [
    "from matplotlib import pyplot as plt\n",
    "\n",
    "plt.plot(model.history.history['loss'],'b')\n",
    "plt.plot(model.history.history['val_loss'],'r')"
   ]
  }
 ],
 "metadata": {
  "accelerator": "GPU",
  "colab": {
   "name": "",
   "version": ""
  },
  "kernelspec": {
   "display_name": "Python 3 (ipykernel)",
   "language": "python",
   "name": "python3"
  },
  "language_info": {
   "codemirror_mode": {
    "name": "ipython",
    "version": 3
   },
   "file_extension": ".py",
   "mimetype": "text/x-python",
   "name": "python",
   "nbconvert_exporter": "python",
   "pygments_lexer": "ipython3",
   "version": "3.11.5"
  }
 },
 "nbformat": 4,
 "nbformat_minor": 5
}
