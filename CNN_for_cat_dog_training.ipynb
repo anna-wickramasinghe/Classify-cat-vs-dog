{
 "cells": [
  {
   "cell_type": "markdown",
   "id": "fa1886a8",
   "metadata": {
    "id": "fa1886a8"
   },
   "source": [
    "# Loading data"
   ]
  },
  {
   "cell_type": "code",
   "execution_count": 2,
   "id": "dc785ae4",
   "metadata": {
    "executionInfo": {
     "elapsed": 6923,
     "status": "ok",
     "timestamp": 1707384428601,
     "user": {
      "displayName": "Anna Wickramasinghe",
      "userId": "17280592597044115921"
     },
     "user_tz": -330
    },
    "id": "dc785ae4"
   },
   "outputs": [],
   "source": [
    "import numpy as np\n",
    "data=np.load('/content/drive/MyDrive/Colab Notebooks/data.npy')\n",
    "target=np.load('/content/drive/MyDrive/Colab Notebooks/target.npy')"
   ]
  },
  {
   "cell_type": "code",
   "execution_count": 1,
   "id": "D1XHMDsys8pB",
   "metadata": {
    "colab": {
     "base_uri": "https://localhost:8080/"
    },
    "executionInfo": {
     "elapsed": 48202,
     "status": "ok",
     "timestamp": 1707384405855,
     "user": {
      "displayName": "Anna Wickramasinghe",
      "userId": "17280592597044115921"
     },
     "user_tz": -330
    },
    "id": "D1XHMDsys8pB",
    "outputId": "b81247c2-ece1-45a7-fbec-20393177853d"
   },
   "outputs": [
    {
     "name": "stdout",
     "output_type": "stream",
     "text": [
      "Mounted at /content/drive\n"
     ]
    }
   ],
   "source": [
    "from google.colab import drive\n",
    "drive.mount('/content/drive')"
   ]
  },
  {
   "cell_type": "code",
   "execution_count": null,
   "id": "E5lTBirxCZ9p",
   "metadata": {
    "id": "E5lTBirxCZ9p"
   },
   "outputs": [],
   "source": []
  },
  {
   "cell_type": "markdown",
   "id": "1f7c4774",
   "metadata": {
    "id": "1f7c4774"
   },
   "source": [
    "# Building model"
   ]
  },
  {
   "cell_type": "code",
   "execution_count": 3,
   "id": "15efc328",
   "metadata": {
    "colab": {
     "base_uri": "https://localhost:8080/"
    },
    "executionInfo": {
     "elapsed": 5554,
     "status": "ok",
     "timestamp": 1707384442236,
     "user": {
      "displayName": "Anna Wickramasinghe",
      "userId": "17280592597044115921"
     },
     "user_tz": -330
    },
    "id": "15efc328",
    "outputId": "cfc5a0b9-8779-4c4e-d54a-d75402aa57be"
   },
   "outputs": [
    {
     "name": "stdout",
     "output_type": "stream",
     "text": [
      "Model: \"sequential\"\n",
      "_________________________________________________________________\n",
      " Layer (type)                Output Shape              Param #   \n",
      "=================================================================\n",
      " conv2d (Conv2D)             (None, 48, 48, 128)       1280      \n",
      "                                                                 \n",
      " batch_normalization (Batch  (None, 48, 48, 128)       512       \n",
      " Normalization)                                                  \n",
      "                                                                 \n",
      " activation (Activation)     (None, 48, 48, 128)       0         \n",
      "                                                                 \n",
      " max_pooling2d (MaxPooling2  (None, 24, 24, 128)       0         \n",
      " D)                                                              \n",
      "                                                                 \n",
      " conv2d_1 (Conv2D)           (None, 22, 22, 64)        73792     \n",
      "                                                                 \n",
      " batch_normalization_1 (Bat  (None, 22, 22, 64)        256       \n",
      " chNormalization)                                                \n",
      "                                                                 \n",
      " activation_1 (Activation)   (None, 22, 22, 64)        0         \n",
      "                                                                 \n",
      " max_pooling2d_1 (MaxPoolin  (None, 11, 11, 64)        0         \n",
      " g2D)                                                            \n",
      "                                                                 \n",
      " conv2d_2 (Conv2D)           (None, 7, 7, 32)          51232     \n",
      "                                                                 \n",
      " batch_normalization_2 (Bat  (None, 7, 7, 32)          128       \n",
      " chNormalization)                                                \n",
      "                                                                 \n",
      " activation_2 (Activation)   (None, 7, 7, 32)          0         \n",
      "                                                                 \n",
      " max_pooling2d_2 (MaxPoolin  (None, 3, 3, 32)          0         \n",
      " g2D)                                                            \n",
      "                                                                 \n",
      " flatten (Flatten)           (None, 288)               0         \n",
      "                                                                 \n",
      " dropout (Dropout)           (None, 288)               0         \n",
      "                                                                 \n",
      " dense (Dense)               (None, 200)               57800     \n",
      "                                                                 \n",
      " dropout_1 (Dropout)         (None, 200)               0         \n",
      "                                                                 \n",
      " dense_1 (Dense)             (None, 100)               20100     \n",
      "                                                                 \n",
      " batch_normalization_3 (Bat  (None, 100)               400       \n",
      " chNormalization)                                                \n",
      "                                                                 \n",
      " dense_2 (Dense)             (None, 50)                5050      \n",
      "                                                                 \n",
      " dense_3 (Dense)             (None, 10)                510       \n",
      "                                                                 \n",
      " dense_4 (Dense)             (None, 2)                 22        \n",
      "                                                                 \n",
      "=================================================================\n",
      "Total params: 211082 (824.54 KB)\n",
      "Trainable params: 210434 (822.01 KB)\n",
      "Non-trainable params: 648 (2.53 KB)\n",
      "_________________________________________________________________\n"
     ]
    }
   ],
   "source": [
    "from keras.models import Sequential\n",
    "from keras.layers import Conv2D, MaxPooling2D, Dense, Flatten, Activation, Dropout, BatchNormalization\n",
    "\n",
    "model = Sequential()\n",
    "\n",
    "model.add(Conv2D(128,(3,3),input_shape=data.shape[1:], kernel_initializer='orthogonal'))\n",
    "model.add(BatchNormalization())\n",
    "model.add(Activation('relu'))\n",
    "model.add(MaxPooling2D(pool_size=(2,2)))\n",
    "\n",
    "model.add(Conv2D(64,(3,3)))\n",
    "model.add(BatchNormalization())\n",
    "model.add(Activation('relu'))\n",
    "model.add(MaxPooling2D(pool_size=(2,2)))\n",
    "\n",
    "model.add(Conv2D(32,(5,5)))\n",
    "model.add(BatchNormalization())\n",
    "model.add(Activation('relu'))\n",
    "model.add(MaxPooling2D(pool_size=(2,2)))\n",
    "\n",
    "model.add(Flatten())\n",
    "model.add(Dropout(0.5))\n",
    "model.add(Dense(200,activation='tanh'))\n",
    "model.add(Dropout(0.25))\n",
    "model.add(Dense(100,activation='relu'))\n",
    "model.add(BatchNormalization())\n",
    "model.add(Dense(50,activation='tanh'))\n",
    "model.add(Dense(10,activation='relu'))\n",
    "model.add(Dense(2, activation='softmax'))\n",
    "\n",
    "model.compile(loss='categorical_crossentropy', optimizer='adam', metrics=['accuracy'])\n",
    "\n",
    "model.summary()"
   ]
  },
  {
   "cell_type": "markdown",
   "id": "x9a2hyfzUAkU",
   "metadata": {
    "id": "x9a2hyfzUAkU"
   },
   "source": [
    "## **Augmentation**"
   ]
  },
  {
   "cell_type": "code",
   "execution_count": 4,
   "id": "1cOS6cupT74_",
   "metadata": {
    "executionInfo": {
     "elapsed": 41,
     "status": "ok",
     "timestamp": 1707384451579,
     "user": {
      "displayName": "Anna Wickramasinghe",
      "userId": "17280592597044115921"
     },
     "user_tz": -330
    },
    "id": "1cOS6cupT74_"
   },
   "outputs": [],
   "source": [
    "from keras.preprocessing.image import ImageDataGenerator\n",
    "aug = ImageDataGenerator(rotation_range=20, zoom_range=0.15, width_shift_range=0.2, height_shift_range=0.2,shear_range=0.1,\n",
    "                        horizontal_flip=True, fill_mode='nearest')"
   ]
  },
  {
   "cell_type": "markdown",
   "id": "3sUsnXnDUV_i",
   "metadata": {
    "id": "3sUsnXnDUV_i"
   },
   "source": [
    "## Trainning"
   ]
  },
  {
   "cell_type": "code",
   "execution_count": 5,
   "id": "em8n5gDNTwkk",
   "metadata": {
    "executionInfo": {
     "elapsed": 1155,
     "status": "ok",
     "timestamp": 1707384454501,
     "user": {
      "displayName": "Anna Wickramasinghe",
      "userId": "17280592597044115921"
     },
     "user_tz": -330
    },
    "id": "em8n5gDNTwkk"
   },
   "outputs": [],
   "source": [
    "from sklearn.model_selection import train_test_split\n",
    "\n",
    "train_data,test_data,train_target,test_target=train_test_split(data,target,test_size=0.2)"
   ]
  },
  {
   "cell_type": "code",
   "execution_count": 6,
   "id": "2c4bdc78",
   "metadata": {
    "colab": {
     "base_uri": "https://localhost:8080/"
    },
    "executionInfo": {
     "elapsed": 1788481,
     "status": "ok",
     "timestamp": 1707386245604,
     "user": {
      "displayName": "Anna Wickramasinghe",
      "userId": "17280592597044115921"
     },
     "user_tz": -330
    },
    "id": "2c4bdc78",
    "outputId": "e306b41b-8554-4ca7-826e-3343911f7ca4"
   },
   "outputs": [
    {
     "name": "stdout",
     "output_type": "stream",
     "text": [
      "Epoch 1/100\n",
      "622/624 [============================>.] - ETA: 0s - loss: 0.6878 - accuracy: 0.5614"
     ]
    },
    {
     "name": "stderr",
     "output_type": "stream",
     "text": [
      "/usr/local/lib/python3.10/dist-packages/keras/src/engine/training.py:3103: UserWarning: You are saving your model as an HDF5 file via `model.save()`. This file format is considered legacy. We recommend using instead the native Keras format, e.g. `model.save('my_model.keras')`.\n",
      "  saving_api.save_model(\n"
     ]
    },
    {
     "name": "stdout",
     "output_type": "stream",
     "text": [
      "\b\b\b\b\b\b\b\b\b\b\b\b\b\b\b\b\b\b\b\b\b\b\b\b\b\b\b\b\b\b\b\b\b\b\b\b\b\b\b\b\b\b\b\b\b\b\b\b\b\b\b\b\b\b\b\b\b\b\b\b\b\b\b\b\b\b\b\b\b\b\b\b\b\b\b\b\b\b\b\b\b\b\b\b\r",
      "624/624 [==============================] - 28s 31ms/step - loss: 0.6878 - accuracy: 0.5615 - val_loss: 0.6395 - val_accuracy: 0.6351\n",
      "Epoch 2/100\n",
      "624/624 [==============================] - 17s 28ms/step - loss: 0.6485 - accuracy: 0.6235 - val_loss: 0.6251 - val_accuracy: 0.6463\n",
      "Epoch 3/100\n",
      "624/624 [==============================] - 18s 29ms/step - loss: 0.6237 - accuracy: 0.6524 - val_loss: 0.5774 - val_accuracy: 0.6958\n",
      "Epoch 4/100\n",
      "624/624 [==============================] - 17s 28ms/step - loss: 0.5910 - accuracy: 0.6844 - val_loss: 0.5560 - val_accuracy: 0.7297\n",
      "Epoch 5/100\n",
      "624/624 [==============================] - 17s 27ms/step - loss: 0.5700 - accuracy: 0.7063 - val_loss: 1.0860 - val_accuracy: 0.5102\n",
      "Epoch 6/100\n",
      "624/624 [==============================] - 17s 27ms/step - loss: 0.5528 - accuracy: 0.7190 - val_loss: 0.6731 - val_accuracy: 0.6044\n",
      "Epoch 7/100\n",
      "624/624 [==============================] - 19s 30ms/step - loss: 0.5316 - accuracy: 0.7369 - val_loss: 0.4750 - val_accuracy: 0.7731\n",
      "Epoch 8/100\n",
      "624/624 [==============================] - 16s 26ms/step - loss: 0.5224 - accuracy: 0.7475 - val_loss: 0.4835 - val_accuracy: 0.7693\n",
      "Epoch 9/100\n",
      "624/624 [==============================] - 17s 27ms/step - loss: 0.5087 - accuracy: 0.7503 - val_loss: 0.5121 - val_accuracy: 0.7537\n",
      "Epoch 10/100\n",
      "624/624 [==============================] - 18s 28ms/step - loss: 0.4967 - accuracy: 0.7626 - val_loss: 0.4584 - val_accuracy: 0.7826\n",
      "Epoch 11/100\n",
      "624/624 [==============================] - 16s 26ms/step - loss: 0.4953 - accuracy: 0.7632 - val_loss: 0.5139 - val_accuracy: 0.7597\n",
      "Epoch 12/100\n",
      "624/624 [==============================] - 17s 27ms/step - loss: 0.4797 - accuracy: 0.7691 - val_loss: 0.5667 - val_accuracy: 0.7255\n",
      "Epoch 13/100\n",
      "624/624 [==============================] - 16s 26ms/step - loss: 0.4718 - accuracy: 0.7775 - val_loss: 0.6012 - val_accuracy: 0.7086\n",
      "Epoch 14/100\n",
      "624/624 [==============================] - 18s 28ms/step - loss: 0.4685 - accuracy: 0.7790 - val_loss: 0.9830 - val_accuracy: 0.5820\n",
      "Epoch 15/100\n",
      "624/624 [==============================] - 18s 28ms/step - loss: 0.4678 - accuracy: 0.7774 - val_loss: 0.3919 - val_accuracy: 0.8218\n",
      "Epoch 16/100\n",
      "624/624 [==============================] - 16s 26ms/step - loss: 0.4529 - accuracy: 0.7892 - val_loss: 0.5487 - val_accuracy: 0.7543\n",
      "Epoch 17/100\n",
      "624/624 [==============================] - 17s 26ms/step - loss: 0.4544 - accuracy: 0.7905 - val_loss: 0.5788 - val_accuracy: 0.7503\n",
      "Epoch 18/100\n",
      "624/624 [==============================] - 17s 28ms/step - loss: 0.4442 - accuracy: 0.7929 - val_loss: 0.4311 - val_accuracy: 0.7976\n",
      "Epoch 19/100\n",
      "624/624 [==============================] - 17s 27ms/step - loss: 0.4372 - accuracy: 0.7933 - val_loss: 0.4619 - val_accuracy: 0.7980\n",
      "Epoch 20/100\n",
      "624/624 [==============================] - 17s 28ms/step - loss: 0.4380 - accuracy: 0.7955 - val_loss: 0.4238 - val_accuracy: 0.8074\n",
      "Epoch 21/100\n",
      "624/624 [==============================] - 19s 31ms/step - loss: 0.4333 - accuracy: 0.7985 - val_loss: 0.3558 - val_accuracy: 0.8493\n",
      "Epoch 22/100\n",
      "624/624 [==============================] - 17s 28ms/step - loss: 0.4194 - accuracy: 0.8075 - val_loss: 0.3791 - val_accuracy: 0.8255\n",
      "Epoch 23/100\n",
      "624/624 [==============================] - 16s 26ms/step - loss: 0.4188 - accuracy: 0.8080 - val_loss: 0.4712 - val_accuracy: 0.7926\n",
      "Epoch 24/100\n",
      "624/624 [==============================] - 17s 27ms/step - loss: 0.4169 - accuracy: 0.8091 - val_loss: 0.3867 - val_accuracy: 0.8319\n",
      "Epoch 25/100\n",
      "624/624 [==============================] - 17s 27ms/step - loss: 0.4069 - accuracy: 0.8132 - val_loss: 0.5037 - val_accuracy: 0.7840\n",
      "Epoch 26/100\n",
      "624/624 [==============================] - 18s 29ms/step - loss: 0.4039 - accuracy: 0.8178 - val_loss: 0.4047 - val_accuracy: 0.8212\n",
      "Epoch 27/100\n",
      "624/624 [==============================] - 17s 27ms/step - loss: 0.4012 - accuracy: 0.8168 - val_loss: 0.4154 - val_accuracy: 0.8136\n",
      "Epoch 28/100\n",
      "624/624 [==============================] - 17s 27ms/step - loss: 0.4072 - accuracy: 0.8128 - val_loss: 0.3304 - val_accuracy: 0.8595\n",
      "Epoch 29/100\n",
      "624/624 [==============================] - 17s 27ms/step - loss: 0.4027 - accuracy: 0.8146 - val_loss: 0.3526 - val_accuracy: 0.8629\n",
      "Epoch 30/100\n",
      "624/624 [==============================] - 19s 30ms/step - loss: 0.4027 - accuracy: 0.8154 - val_loss: 0.3260 - val_accuracy: 0.8581\n",
      "Epoch 31/100\n",
      "624/624 [==============================] - 16s 26ms/step - loss: 0.3941 - accuracy: 0.8174 - val_loss: 0.4587 - val_accuracy: 0.8038\n",
      "Epoch 32/100\n",
      "624/624 [==============================] - 19s 30ms/step - loss: 0.3933 - accuracy: 0.8174 - val_loss: 0.5195 - val_accuracy: 0.7735\n",
      "Epoch 33/100\n",
      "624/624 [==============================] - 16s 26ms/step - loss: 0.3863 - accuracy: 0.8216 - val_loss: 0.4718 - val_accuracy: 0.7717\n",
      "Epoch 34/100\n",
      "624/624 [==============================] - 16s 26ms/step - loss: 0.3787 - accuracy: 0.8261 - val_loss: 0.5226 - val_accuracy: 0.7589\n",
      "Epoch 35/100\n",
      "624/624 [==============================] - 17s 27ms/step - loss: 0.3885 - accuracy: 0.8231 - val_loss: 0.4010 - val_accuracy: 0.8058\n",
      "Epoch 36/100\n",
      "624/624 [==============================] - 17s 27ms/step - loss: 0.3813 - accuracy: 0.8263 - val_loss: 0.3973 - val_accuracy: 0.8070\n",
      "Epoch 37/100\n",
      "624/624 [==============================] - 17s 28ms/step - loss: 0.3814 - accuracy: 0.8249 - val_loss: 0.3620 - val_accuracy: 0.8443\n",
      "Epoch 38/100\n",
      "624/624 [==============================] - 18s 29ms/step - loss: 0.3761 - accuracy: 0.8304 - val_loss: 0.6084 - val_accuracy: 0.7353\n",
      "Epoch 39/100\n",
      "624/624 [==============================] - 17s 26ms/step - loss: 0.3725 - accuracy: 0.8309 - val_loss: 0.4188 - val_accuracy: 0.8140\n",
      "Epoch 40/100\n",
      "624/624 [==============================] - 17s 27ms/step - loss: 0.3718 - accuracy: 0.8316 - val_loss: 0.5009 - val_accuracy: 0.7928\n",
      "Epoch 41/100\n",
      "624/624 [==============================] - 17s 28ms/step - loss: 0.3744 - accuracy: 0.8302 - val_loss: 0.3585 - val_accuracy: 0.8325\n",
      "Epoch 42/100\n",
      "624/624 [==============================] - 17s 28ms/step - loss: 0.3750 - accuracy: 0.8301 - val_loss: 0.3397 - val_accuracy: 0.8561\n",
      "Epoch 43/100\n",
      "624/624 [==============================] - 17s 27ms/step - loss: 0.3699 - accuracy: 0.8339 - val_loss: 0.3731 - val_accuracy: 0.8417\n",
      "Epoch 44/100\n",
      "624/624 [==============================] - 19s 31ms/step - loss: 0.3688 - accuracy: 0.8301 - val_loss: 0.3003 - val_accuracy: 0.8693\n",
      "Epoch 45/100\n",
      "624/624 [==============================] - 17s 28ms/step - loss: 0.3651 - accuracy: 0.8373 - val_loss: 0.3883 - val_accuracy: 0.8407\n",
      "Epoch 46/100\n",
      "624/624 [==============================] - 16s 26ms/step - loss: 0.3677 - accuracy: 0.8351 - val_loss: 0.3414 - val_accuracy: 0.8453\n",
      "Epoch 47/100\n",
      "624/624 [==============================] - 17s 27ms/step - loss: 0.3659 - accuracy: 0.8351 - val_loss: 0.5893 - val_accuracy: 0.7471\n",
      "Epoch 48/100\n",
      "624/624 [==============================] - 17s 27ms/step - loss: 0.3666 - accuracy: 0.8362 - val_loss: 0.4057 - val_accuracy: 0.8259\n",
      "Epoch 49/100\n",
      "624/624 [==============================] - 17s 27ms/step - loss: 0.3559 - accuracy: 0.8379 - val_loss: 0.2926 - val_accuracy: 0.8723\n",
      "Epoch 50/100\n",
      "624/624 [==============================] - 18s 28ms/step - loss: 0.3600 - accuracy: 0.8395 - val_loss: 0.4540 - val_accuracy: 0.7752\n",
      "Epoch 51/100\n",
      "624/624 [==============================] - 17s 27ms/step - loss: 0.3594 - accuracy: 0.8402 - val_loss: 0.3232 - val_accuracy: 0.8605\n",
      "Epoch 52/100\n",
      "624/624 [==============================] - 17s 27ms/step - loss: 0.3511 - accuracy: 0.8420 - val_loss: 0.3533 - val_accuracy: 0.8465\n",
      "Epoch 53/100\n",
      "624/624 [==============================] - 18s 29ms/step - loss: 0.3603 - accuracy: 0.8387 - val_loss: 0.3928 - val_accuracy: 0.8168\n",
      "Epoch 54/100\n",
      "624/624 [==============================] - 17s 27ms/step - loss: 0.3472 - accuracy: 0.8451 - val_loss: 0.3183 - val_accuracy: 0.8659\n",
      "Epoch 55/100\n",
      "624/624 [==============================] - 17s 27ms/step - loss: 0.3519 - accuracy: 0.8449 - val_loss: 0.3969 - val_accuracy: 0.8122\n",
      "Epoch 56/100\n",
      "624/624 [==============================] - 17s 28ms/step - loss: 0.3494 - accuracy: 0.8434 - val_loss: 0.3135 - val_accuracy: 0.8555\n",
      "Epoch 57/100\n",
      "624/624 [==============================] - 17s 27ms/step - loss: 0.3494 - accuracy: 0.8451 - val_loss: 0.3208 - val_accuracy: 0.8549\n",
      "Epoch 58/100\n",
      "624/624 [==============================] - 17s 27ms/step - loss: 0.3503 - accuracy: 0.8426 - val_loss: 0.2922 - val_accuracy: 0.8651\n",
      "Epoch 59/100\n",
      "624/624 [==============================] - 17s 28ms/step - loss: 0.3521 - accuracy: 0.8442 - val_loss: 0.2903 - val_accuracy: 0.8695\n",
      "Epoch 60/100\n",
      "624/624 [==============================] - 17s 28ms/step - loss: 0.3504 - accuracy: 0.8437 - val_loss: 0.4746 - val_accuracy: 0.7842\n",
      "Epoch 61/100\n",
      "624/624 [==============================] - 17s 26ms/step - loss: 0.3442 - accuracy: 0.8459 - val_loss: 0.3588 - val_accuracy: 0.8389\n",
      "Epoch 62/100\n",
      "624/624 [==============================] - 18s 29ms/step - loss: 0.3424 - accuracy: 0.8439 - val_loss: 0.3397 - val_accuracy: 0.8451\n",
      "Epoch 63/100\n",
      "624/624 [==============================] - 17s 27ms/step - loss: 0.3446 - accuracy: 0.8472 - val_loss: 0.3291 - val_accuracy: 0.8467\n",
      "Epoch 64/100\n",
      "624/624 [==============================] - 18s 29ms/step - loss: 0.3420 - accuracy: 0.8476 - val_loss: 0.2855 - val_accuracy: 0.8798\n",
      "Epoch 65/100\n",
      "624/624 [==============================] - 17s 27ms/step - loss: 0.3442 - accuracy: 0.8472 - val_loss: 0.3066 - val_accuracy: 0.8629\n",
      "Epoch 66/100\n",
      "624/624 [==============================] - 16s 26ms/step - loss: 0.3442 - accuracy: 0.8495 - val_loss: 0.3098 - val_accuracy: 0.8633\n",
      "Epoch 67/100\n",
      "624/624 [==============================] - 17s 26ms/step - loss: 0.3375 - accuracy: 0.8484 - val_loss: 0.3318 - val_accuracy: 0.8485\n",
      "Epoch 68/100\n",
      "624/624 [==============================] - 18s 28ms/step - loss: 0.3465 - accuracy: 0.8455 - val_loss: 0.4272 - val_accuracy: 0.8088\n",
      "Epoch 69/100\n",
      "624/624 [==============================] - 17s 27ms/step - loss: 0.3345 - accuracy: 0.8524 - val_loss: 0.3699 - val_accuracy: 0.8337\n",
      "Epoch 70/100\n",
      "624/624 [==============================] - 16s 26ms/step - loss: 0.3355 - accuracy: 0.8523 - val_loss: 0.4458 - val_accuracy: 0.8206\n",
      "Epoch 71/100\n",
      "624/624 [==============================] - 16s 26ms/step - loss: 0.3458 - accuracy: 0.8445 - val_loss: 0.3878 - val_accuracy: 0.8130\n",
      "Epoch 72/100\n",
      "624/624 [==============================] - 17s 28ms/step - loss: 0.3414 - accuracy: 0.8474 - val_loss: 0.3831 - val_accuracy: 0.8391\n",
      "Epoch 73/100\n",
      "624/624 [==============================] - 17s 28ms/step - loss: 0.3353 - accuracy: 0.8539 - val_loss: 0.3259 - val_accuracy: 0.8505\n",
      "Epoch 74/100\n",
      "624/624 [==============================] - 17s 27ms/step - loss: 0.3314 - accuracy: 0.8551 - val_loss: 0.3390 - val_accuracy: 0.8499\n",
      "Epoch 75/100\n",
      "624/624 [==============================] - 17s 27ms/step - loss: 0.3362 - accuracy: 0.8477 - val_loss: 0.3633 - val_accuracy: 0.8327\n",
      "Epoch 76/100\n",
      "624/624 [==============================] - 18s 28ms/step - loss: 0.3359 - accuracy: 0.8528 - val_loss: 0.3707 - val_accuracy: 0.8248\n",
      "Epoch 77/100\n",
      "624/624 [==============================] - 17s 27ms/step - loss: 0.3347 - accuracy: 0.8495 - val_loss: 0.4175 - val_accuracy: 0.8164\n",
      "Epoch 78/100\n",
      "624/624 [==============================] - 17s 27ms/step - loss: 0.3373 - accuracy: 0.8520 - val_loss: 0.3488 - val_accuracy: 0.8449\n",
      "Epoch 79/100\n",
      "624/624 [==============================] - 17s 27ms/step - loss: 0.3369 - accuracy: 0.8507 - val_loss: 0.3092 - val_accuracy: 0.8589\n",
      "Epoch 80/100\n",
      "624/624 [==============================] - 18s 29ms/step - loss: 0.3280 - accuracy: 0.8534 - val_loss: 0.4498 - val_accuracy: 0.8060\n",
      "Epoch 81/100\n",
      "624/624 [==============================] - 17s 27ms/step - loss: 0.3374 - accuracy: 0.8504 - val_loss: 0.4668 - val_accuracy: 0.7908\n",
      "Epoch 82/100\n",
      "624/624 [==============================] - 17s 27ms/step - loss: 0.3255 - accuracy: 0.8571 - val_loss: 0.2985 - val_accuracy: 0.8699\n",
      "Epoch 83/100\n",
      "624/624 [==============================] - 16s 26ms/step - loss: 0.3288 - accuracy: 0.8523 - val_loss: 0.2776 - val_accuracy: 0.8741\n",
      "Epoch 84/100\n",
      "624/624 [==============================] - 18s 29ms/step - loss: 0.3329 - accuracy: 0.8496 - val_loss: 0.4795 - val_accuracy: 0.7884\n",
      "Epoch 85/100\n",
      "624/624 [==============================] - 16s 26ms/step - loss: 0.3269 - accuracy: 0.8529 - val_loss: 0.6599 - val_accuracy: 0.7212\n",
      "Epoch 86/100\n",
      "624/624 [==============================] - 17s 27ms/step - loss: 0.3301 - accuracy: 0.8547 - val_loss: 0.5785 - val_accuracy: 0.7337\n",
      "Epoch 87/100\n",
      "624/624 [==============================] - 17s 27ms/step - loss: 0.3272 - accuracy: 0.8555 - val_loss: 0.3695 - val_accuracy: 0.8345\n",
      "Epoch 88/100\n",
      "624/624 [==============================] - 18s 29ms/step - loss: 0.3282 - accuracy: 0.8547 - val_loss: 0.3287 - val_accuracy: 0.8553\n",
      "Epoch 89/100\n",
      "624/624 [==============================] - 17s 27ms/step - loss: 0.3258 - accuracy: 0.8563 - val_loss: 0.3720 - val_accuracy: 0.8359\n",
      "Epoch 90/100\n",
      "624/624 [==============================] - 17s 27ms/step - loss: 0.3265 - accuracy: 0.8554 - val_loss: 0.3778 - val_accuracy: 0.8172\n",
      "Epoch 91/100\n",
      "624/624 [==============================] - 18s 28ms/step - loss: 0.3256 - accuracy: 0.8519 - val_loss: 0.3805 - val_accuracy: 0.8236\n",
      "Epoch 92/100\n",
      "624/624 [==============================] - 17s 28ms/step - loss: 0.3266 - accuracy: 0.8561 - val_loss: 0.3474 - val_accuracy: 0.8485\n",
      "Epoch 93/100\n",
      "624/624 [==============================] - 17s 27ms/step - loss: 0.3236 - accuracy: 0.8567 - val_loss: 0.2960 - val_accuracy: 0.8749\n",
      "Epoch 94/100\n",
      "624/624 [==============================] - 18s 28ms/step - loss: 0.3220 - accuracy: 0.8585 - val_loss: 0.2587 - val_accuracy: 0.8872\n",
      "Epoch 95/100\n",
      "624/624 [==============================] - 17s 26ms/step - loss: 0.3253 - accuracy: 0.8562 - val_loss: 0.4424 - val_accuracy: 0.7992\n",
      "Epoch 96/100\n",
      "624/624 [==============================] - 17s 27ms/step - loss: 0.3174 - accuracy: 0.8563 - val_loss: 0.3129 - val_accuracy: 0.8555\n",
      "Epoch 97/100\n",
      "624/624 [==============================] - 17s 27ms/step - loss: 0.3202 - accuracy: 0.8591 - val_loss: 0.2778 - val_accuracy: 0.8752\n",
      "Epoch 98/100\n",
      "624/624 [==============================] - 18s 29ms/step - loss: 0.3201 - accuracy: 0.8604 - val_loss: 0.2905 - val_accuracy: 0.8725\n",
      "Epoch 99/100\n",
      "624/624 [==============================] - 17s 27ms/step - loss: 0.3205 - accuracy: 0.8565 - val_loss: 0.3657 - val_accuracy: 0.8311\n",
      "Epoch 100/100\n",
      "624/624 [==============================] - 17s 27ms/step - loss: 0.3186 - accuracy: 0.8567 - val_loss: 0.2731 - val_accuracy: 0.8952\n"
     ]
    },
    {
     "data": {
      "text/plain": [
       "<keras.src.callbacks.History at 0x78cd1040d000>"
      ]
     },
     "execution_count": 6,
     "metadata": {},
     "output_type": "execute_result"
    }
   ],
   "source": [
    "from keras.callbacks import ModelCheckpoint\n",
    "\n",
    "checkpoint_path = \"/content/drive/MyDrive/Colab Notebooks/models/model-{epoch:03d}.h5\"\n",
    "checkpoint = ModelCheckpoint(checkpoint_path, monitor='val_loss',save_best_only=True,mode='auto')\n",
    "\n",
    "model.fit(aug.flow(train_data,train_target,batch_size=32),validation_data=(test_data, test_target), epochs=100, callbacks=[checkpoint])"
   ]
  },
  {
   "cell_type": "code",
   "execution_count": 7,
   "id": "kJULYZw4vmBl",
   "metadata": {
    "colab": {
     "base_uri": "https://localhost:8080/",
     "height": 447
    },
    "executionInfo": {
     "elapsed": 905,
     "status": "ok",
     "timestamp": 1707386250690,
     "user": {
      "displayName": "Anna Wickramasinghe",
      "userId": "17280592597044115921"
     },
     "user_tz": -330
    },
    "id": "kJULYZw4vmBl",
    "outputId": "e00c7cdc-ce5b-49a7-ca17-1c3e6c614ac6"
   },
   "outputs": [
    {
     "data": {
      "text/plain": [
       "[<matplotlib.lines.Line2D at 0x78cd12703490>]"
      ]
     },
     "execution_count": 7,
     "metadata": {},
     "output_type": "execute_result"
    },
    {
     "data": {
      "image/png": "[encoded data removed]",
      "text/plain": [
       "<Figure size 640x480 with 1 Axes>"
      ]
     },
     "metadata": {},
     "output_type": "display_data"
    }
   ],
   "source": [
    "from matplotlib import pyplot as plt\n",
    "\n",
    "plt.plot(model.history.history['loss'],'b')\n",
    "plt.plot(model.history.history['val_loss'],'r')"
   ]
  }
 ],
 "metadata": {
  "accelerator": "GPU",
  "colab": {
   "gpuType": "T4",
   "provenance": []
  },
  "kernelspec": {
   "display_name": "Python 3 (ipykernel)",
   "language": "python",
   "name": "python3"
  },
  "language_info": {
   "codemirror_mode": {
    "name": "ipython",
    "version": 3
   },
   "file_extension": ".py",
   "mimetype": "text/x-python",
   "name": "python",
   "nbconvert_exporter": "python",
   "pygments_lexer": "ipython3",
   "version": "3.11.5"
  }
 },
 "nbformat": 4,
 "nbformat_minor": 5
}
